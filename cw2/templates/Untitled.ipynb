{
 "cells": [
  {
   "cell_type": "code",
   "execution_count": 2,
   "metadata": {},
   "outputs": [
    {
     "name": "stderr",
     "output_type": "stream",
     "text": [
      "C:\\Users\\araff\\Anaconda3\\envs\\py3iaml\\lib\\site-packages\\sklearn\\utils\\__init__.py:4: DeprecationWarning: Using or importing the ABCs from 'collections' instead of from 'collections.abc' is deprecated since Python 3.3,and in 3.9 it will stop working\n",
      "  from collections import Sequence\n"
     ]
    }
   ],
   "source": [
    "import os\n",
    "import gzip\n",
    "import numpy as np\n",
    "import numpy as np\n",
    "import scipy\n",
    "import matplotlib.pyplot as plt\n",
    "import seaborn as sns\n",
    "from sklearn.decomposition import PCA\n",
    "from sklearn.metrics import mean_squared_error\n",
    "import pandas as pd"
   ]
  },
  {
   "cell_type": "code",
   "execution_count": 3,
   "metadata": {},
   "outputs": [],
   "source": [
    "def load_mnist(path, kind='train'):\n",
    "    labels_path = os.path.join(path, '%s-labels-idx1-ubyte.gz' % kind)\n",
    "    images_path = os.path.join(path, '%s-images-idx3-ubyte.gz' % kind)\n",
    "    with gzip.open(labels_path, 'rb') as lbpath:\n",
    "        labels = np.frombuffer(lbpath.read(), dtype=np.uint8,offset=8)\n",
    "    with gzip.open(images_path, 'rb') as imgpath:\n",
    "        images = np.frombuffer(imgpath.read(), dtype=np.uint8,  offset=16).reshape(len(labels), 784)\n",
    "    return images, labels\n",
    "\n",
    "def load_FashionMNIST(data_path):\n",
    "    Xtrn, Ytrn = load_mnist(data_path, \"train\")\n",
    "    Xtst, Ytst = load_mnist(data_path, \"t10k\")\n",
    "    return Xtrn.astype(np.float), Ytrn, Xtst.astype(np.float), Ytst"
   ]
  },
  {
   "cell_type": "code",
   "execution_count": 4,
   "metadata": {},
   "outputs": [],
   "source": [
    "def normalize_data():\n",
    "    Xtrn, Ytrn, Xtst, Ytst = load_FashionMNIST(os.getcwd())\n",
    "    Xtrn_orig = Xtrn.copy()\n",
    "    Xtst_orig = Xtst.copy()\n",
    "    Xtrn = Xtrn / 255.0\n",
    "    Xtst = Xtst / 255.0\n",
    "    Xmean = np.mean(Xtrn, axis=0)\n",
    "    # instantiate Xtrn_nm, Xtst_nm\n",
    "    Xtrn_nm = np.ones(Xtrn.shape)\n",
    "    Xtst_nm = np.ones(Xtst.shape)\n",
    "    # fill Xtrn_nm, Xtst_nm\n",
    "    for row in range(Xtrn.shape[0] - 1):\n",
    "        Xtrn_nm[row] = Xtrn[row] - Xmean\n",
    "    for row in range(Xtst.shape[0] - 1):\n",
    "        Xtst_nm[row] = Xtst[row] - Xmean\n",
    "    return np.array([Xtrn, Xtrn_nm, Ytrn, Xtst_nm, Ytst])"
   ]
  },
  {
   "cell_type": "code",
   "execution_count": 5,
   "metadata": {},
   "outputs": [],
   "source": [
    "pca = PCA(10)"
   ]
  },
  {
   "cell_type": "code",
   "execution_count": 7,
   "metadata": {},
   "outputs": [
    {
     "data": {
      "text/plain": [
       "PCA(copy=True, iterated_power='auto', n_components=10, random_state=None,\n",
       "  svd_solver='auto', tol=0.0, whiten=False)"
      ]
     },
     "execution_count": 7,
     "metadata": {},
     "output_type": "execute_result"
    }
   ],
   "source": [
    "Xtrn, Xtrn_nm, Ytrn, Xtst_nm, Ytst = normalize_data()\n",
    "pca.fit(Xtrn_nm, Ytrn)"
   ]
  },
  {
   "cell_type": "code",
   "execution_count": 8,
   "metadata": {},
   "outputs": [],
   "source": [
    "components = pca.transform(Xtrn_nm)"
   ]
  },
  {
   "cell_type": "code",
   "execution_count": 9,
   "metadata": {},
   "outputs": [
    {
     "data": {
      "text/plain": [
       "(60000, 10)"
      ]
     },
     "execution_count": 9,
     "metadata": {},
     "output_type": "execute_result"
    }
   ],
   "source": [
    "components.shape"
   ]
  },
  {
   "cell_type": "code",
   "execution_count": null,
   "metadata": {},
   "outputs": [],
   "source": [
    "plt.plot()"
   ]
  },
  {
   "cell_type": "code",
   "execution_count": null,
   "metadata": {},
   "outputs": [],
   "source": []
  },
  {
   "cell_type": "code",
   "execution_count": null,
   "metadata": {},
   "outputs": [],
   "source": []
  }
 ],
 "metadata": {
  "kernelspec": {
   "display_name": "Python 3",
   "language": "python",
   "name": "python3"
  },
  "language_info": {
   "codemirror_mode": {
    "name": "ipython",
    "version": 3
   },
   "file_extension": ".py",
   "mimetype": "text/x-python",
   "name": "python",
   "nbconvert_exporter": "python",
   "pygments_lexer": "ipython3",
   "version": "3.7.9"
  }
 },
 "nbformat": 4,
 "nbformat_minor": 4
}
