{
 "cells": [
  {
   "cell_type": "code",
   "execution_count": 90,
   "metadata": {},
   "outputs": [],
   "source": [
    "import numpy as np\n",
    "import os\n",
    "from sklearn.cluster import KMeans\n",
    "import matplotlib.pyplot as plt\n",
    "from collections import Counter\n",
    "from sklearn.decomposition import PCA"
   ]
  },
  {
   "cell_type": "code",
   "execution_count": 24,
   "metadata": {},
   "outputs": [],
   "source": [
    "def load_CoVoST2(data_path):\n",
    "    data = np.load(data_path+'/speech_trn.npz', allow_pickle=True)\n",
    "    Xtrn, Ytrn = data['Xtrn'], data['Ytrn']\n",
    "    data = np.load(data_path+'/speech_tst.npz', allow_pickle=True)\n",
    "    Xtst, Ytst = data['Xtst'], data['Ytst']\n",
    "    return Xtrn, Ytrn, Xtst, Ytst"
   ]
  },
  {
   "cell_type": "code",
   "execution_count": 25,
   "metadata": {},
   "outputs": [],
   "source": [
    "path = os.path.abspath(os.path.join(os.getcwd(), os.pardir)) + \"\\data\"\n",
    "Xtrn, Ytrn, Xtst, Ytst = load_CoVoST2(path)"
   ]
  },
  {
   "cell_type": "code",
   "execution_count": 18,
   "metadata": {},
   "outputs": [],
   "source": [
    "# random state = 1"
   ]
  },
  {
   "cell_type": "code",
   "execution_count": 28,
   "metadata": {},
   "outputs": [],
   "source": [
    "km = KMeans(n_clusters = 22, random_state = 1)"
   ]
  },
  {
   "cell_type": "code",
   "execution_count": 33,
   "metadata": {},
   "outputs": [
    {
     "data": {
      "text/plain": [
       "KMeans(algorithm='auto', copy_x=True, init='k-means++', max_iter=300,\n",
       "    n_clusters=22, n_init=10, n_jobs=1, precompute_distances='auto',\n",
       "    random_state=1, tol=0.0001, verbose=0)"
      ]
     },
     "execution_count": 33,
     "metadata": {},
     "output_type": "execute_result"
    }
   ],
   "source": [
    "km.fit(Xtrn, Ytrn)"
   ]
  },
  {
   "cell_type": "code",
   "execution_count": 102,
   "metadata": {},
   "outputs": [],
   "source": [
    "centers = km.cluster_centers_"
   ]
  },
  {
   "cell_type": "code",
   "execution_count": 48,
   "metadata": {},
   "outputs": [],
   "source": [
    "# centers.shape (22, 26), Xtrn.shape (22000, 26)"
   ]
  },
  {
   "cell_type": "code",
   "execution_count": 62,
   "metadata": {},
   "outputs": [],
   "source": [
    "l0, l1, l2, l3, l4, l5, l6, l7, l8, l9 = [], [], [], [], [], [], [], [], [], []\n",
    "l10, l11, l12, l13, l14, l15, l16, l17, l18, l19, l20, l21 = [], [], [], [], [], [], [], [], [], [], [], []\n",
    "for row in range(Xtrn.shape[0]):\n",
    "    if Ytrn[row] == 0:\n",
    "        l0.append(Xtrn[row])\n",
    "    if Ytrn[row] == 1:\n",
    "        l1.append(Xtrn[row])\n",
    "    if Ytrn[row] == 2:\n",
    "        l2.append(Xtrn[row])\n",
    "    if Ytrn[row] == 3:\n",
    "        l3.append(Xtrn[row])\n",
    "    if Ytrn[row] == 4:\n",
    "        l4.append(Xtrn[row])\n",
    "    if Ytrn[row] == 5:\n",
    "        l5.append(Xtrn[row])\n",
    "    if Ytrn[row] == 6:\n",
    "        l6.append(Xtrn[row])\n",
    "    if Ytrn[row] == 7:\n",
    "        l7.append(Xtrn[row])\n",
    "    if Ytrn[row] == 8:\n",
    "        l8.append(Xtrn[row])\n",
    "    if Ytrn[row] == 9:\n",
    "        l9.append(Xtrn[row])\n",
    "    if Ytrn[row] == 10:\n",
    "        l10.append(Xtrn[row])\n",
    "    if Ytrn[row] == 11:\n",
    "        l11.append(Xtrn[row])\n",
    "    if Ytrn[row] == 12:\n",
    "        l12.append(Xtrn[row])\n",
    "    if Ytrn[row] == 13:\n",
    "        l13.append(Xtrn[row])\n",
    "    if Ytrn[row] == 14:\n",
    "        l14.append(Xtrn[row])\n",
    "    if Ytrn[row] == 15:\n",
    "        l15.append(Xtrn[row])\n",
    "    if Ytrn[row] == 16:\n",
    "        l16.append(Xtrn[row])\n",
    "    if Ytrn[row] == 17:\n",
    "        l17.append(Xtrn[row])\n",
    "    if Ytrn[row] == 18:\n",
    "        l18.append(Xtrn[row])\n",
    "    if Ytrn[row] == 19:\n",
    "        l19.append(Xtrn[row])\n",
    "    if Ytrn[row] == 20:\n",
    "        l20.append(Xtrn[row])\n",
    "    if Ytrn[row] == 21:\n",
    "        l21.append(Xtrn[row])"
   ]
  },
  {
   "cell_type": "code",
   "execution_count": 51,
   "metadata": {},
   "outputs": [],
   "source": [
    "pca = PCA(2)"
   ]
  },
  {
   "cell_type": "code",
   "execution_count": 74,
   "metadata": {},
   "outputs": [],
   "source": [
    "mean0 = np.mean(l0, axis=0) # (26,)\n",
    "mean1 = np.mean(l1, axis=0)\n",
    "mean2 = np.mean(l2, axis=0)\n",
    "mean3 = np.mean(l3, axis=0)\n",
    "mean4 = np.mean(l4, axis=0)\n",
    "mean5 = np.mean(l5, axis=0)\n",
    "mean6 = np.mean(l6, axis=0)\n",
    "mean7 = np.mean(l7, axis=0)\n",
    "mean8 = np.mean(l8, axis=0)\n",
    "mean9 = np.mean(l9, axis=0)\n",
    "mean10 = np.mean(l10, axis=0)\n",
    "mean11 = np.mean(l11, axis=0)\n",
    "mean12 = np.mean(l12, axis=0)\n",
    "mean13 = np.mean(l13, axis=0)\n",
    "mean14 = np.mean(l14, axis=0)\n",
    "mean15 = np.mean(l15, axis=0)\n",
    "mean16 = np.mean(l16, axis=0)\n",
    "mean17 = np.mean(l17, axis=0)\n",
    "mean18 = np.mean(l18, axis=0)\n",
    "mean19 = np.mean(l19, axis=0)\n",
    "mean20 = np.mean(l20, axis=0)\n",
    "mean21 = np.mean(l21, axis=0)\n",
    "means = [mean0, mean1, mean2, mean3, mean4, mean5, mean6, mean7, mean8, mean9, mean10, mean11, mean12, mean13, mean14, mean15, mean16, mean17, mean18, mean19, mean20, mean21]"
   ]
  },
  {
   "cell_type": "code",
   "execution_count": 81,
   "metadata": {},
   "outputs": [],
   "source": [
    "# means = 22 things of (26,)"
   ]
  },
  {
   "cell_type": "code",
   "execution_count": 82,
   "metadata": {},
   "outputs": [
    {
     "data": {
      "text/plain": [
       "PCA(copy=True, iterated_power='auto', n_components=2, random_state=None,\n",
       "  svd_solver='auto', tol=0.0, whiten=False)"
      ]
     },
     "execution_count": 82,
     "metadata": {},
     "output_type": "execute_result"
    }
   ],
   "source": [
    "pca.fit(means)"
   ]
  },
  {
   "cell_type": "code",
   "execution_count": 83,
   "metadata": {},
   "outputs": [],
   "source": [
    "new = pca.transform(means)"
   ]
  },
  {
   "cell_type": "code",
   "execution_count": 86,
   "metadata": {},
   "outputs": [],
   "source": [
    "component1 = new[:,0]\n",
    "component2 = new[:,1]"
   ]
  },
  {
   "cell_type": "code",
   "execution_count": 118,
   "metadata": {},
   "outputs": [],
   "source": [
    "pca1 = []\n",
    "for i in range(new.shape[0]):\n",
    "    pca1.append(new[i, 0])\n",
    "pca2 = []\n",
    "for j in range(new.shape[0]):\n",
    "    pca2.append(new[j,1])"
   ]
  },
  {
   "cell_type": "code",
   "execution_count": 140,
   "metadata": {},
   "outputs": [
    {
     "data": {
      "image/png": "[encoded data removed]",
      "text/plain": [
       "<Figure size 720x720 with 1 Axes>"
      ]
     },
     "metadata": {
      "needs_background": "light"
     },
     "output_type": "display_data"
    }
   ],
   "source": [
    "labels = [0,1,2,3,4,5,6,7,8,9,10,11,12,13,14,15,16,17,18,19,20,21]\n",
    "fig, ax = plt.subplots(nrows=1, ncols=1, figsize=(10,10))\n",
    "for x_,y_,label in zip(pca1,pca2,labels):\n",
    "    ax.scatter([x_], [y_], label=label)\n",
    "plt.scatter(centers[:,0], centers[:,1], label=\"K Means Clusters\", color=\"black\")\n",
    "plt.xlabel(\"PCA Component 1\")\n",
    "plt.ylabel(\"PCA Component 2\")\n",
    "plt.title(\"Mean Vectors for Languages 0-21 in 2D-PCA plane, and KMeans Clusters for K=22\")\n",
    "plt.legend(ncol=3)\n",
    "plt.savefig(\"3_2.png\")\n",
    "plt.show()"
   ]
  }
 ],
 "metadata": {
  "kernelspec": {
   "display_name": "Python 3",
   "language": "python",
   "name": "python3"
  },
  "language_info": {
   "codemirror_mode": {
    "name": "ipython",
    "version": 3
   },
   "file_extension": ".py",
   "mimetype": "text/x-python",
   "name": "python",
   "nbconvert_exporter": "python",
   "pygments_lexer": "ipython3",
   "version": "3.7.9"
  }
 },
 "nbformat": 4,
 "nbformat_minor": 4
}
