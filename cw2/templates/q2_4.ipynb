{
 "cells": [
  {
   "cell_type": "code",
   "execution_count": 1,
   "metadata": {},
   "outputs": [
    {
     "name": "stderr",
     "output_type": "stream",
     "text": [
      "C:\\Users\\araff\\Anaconda3\\envs\\py3iaml\\lib\\site-packages\\sklearn\\utils\\__init__.py:4: DeprecationWarning: Using or importing the ABCs from 'collections' instead of from 'collections.abc' is deprecated since Python 3.3,and in 3.9 it will stop working\n",
      "  from collections import Sequence\n"
     ]
    }
   ],
   "source": [
    "import numpy as np\n",
    "import scipy\n",
    "import matplotlib.pyplot as plt\n",
    "import seaborn as sns\n",
    "from sklearn.linear_model import LogisticRegression\n",
    "from sklearn.metrics import confusion_matrix\n",
    "from sklearn.decomposition import PCA\n",
    "from sklearn.svm import SVC\n",
    "import os\n",
    "import gzip\n"
   ]
  },
  {
   "cell_type": "code",
   "execution_count": 2,
   "metadata": {},
   "outputs": [],
   "source": [
    "def load_mnist(path, kind='train'):\n",
    "    labels_path = os.path.join(path, '%s-labels-idx1-ubyte.gz' % kind)\n",
    "    images_path = os.path.join(path, '%s-images-idx3-ubyte.gz' % kind)\n",
    "    with gzip.open(labels_path, 'rb') as lbpath:\n",
    "        labels = np.frombuffer(lbpath.read(), dtype=np.uint8, offset=8)\n",
    "    with gzip.open(images_path, 'rb') as imgpath:\n",
    "        images = np.frombuffer(imgpath.read(), dtype=np.uint8, offset=16).reshape(len(labels), 784)\n",
    "    return images, labels\n",
    "\n",
    "def load_FashionMNIST(data_path):\n",
    "    Xtrn, Ytrn = load_mnist(data_path, \"train\")\n",
    "    Xtst, Ytst = load_mnist(data_path, \"t10k\")\n",
    "    return Xtrn.astype(np.float), Ytrn, Xtst.astype(np.float), Ytst"
   ]
  },
  {
   "cell_type": "code",
   "execution_count": 3,
   "metadata": {},
   "outputs": [],
   "source": [
    "Xtrn, Ytrn, Xtst, Ytst = load_FashionMNIST(os.getcwd())\n",
    "Xtrn_orig = Xtrn.copy()\n",
    "Xtst_orig = Xtst.copy()\n",
    "Xtrn = Xtrn / 255.0\n",
    "Xtst = Xtst / 255.0\n",
    "Xmean = np.mean(Xtrn, axis=0)\n",
    "Xtrn_nm = np.ones(Xtrn.shape)\n",
    "Xtst_nm = np.ones(Xtst.shape)\n",
    "for row in range(Xtrn.shape[0] - 1):\n",
    "    Xtrn_nm[row] = Xtrn[row] - Xmean\n",
    "for row in range(Xtst.shape[0] - 1):\n",
    "    Xtst_nm[row] = Xtst[row] - Xmean"
   ]
  },
  {
   "cell_type": "code",
   "execution_count": 4,
   "metadata": {},
   "outputs": [],
   "source": [
    "cl = SVC()\n",
    "pca = PCA(2)"
   ]
  },
  {
   "cell_type": "code",
   "execution_count": 5,
   "metadata": {},
   "outputs": [],
   "source": [
    "pca.fit(Xtrn_nm, Ytrn)\n",
    "X_train = pca.transform(Xtrn_nm)\n",
    "X_test = pca.transform(Xtst_nm)"
   ]
  },
  {
   "cell_type": "code",
   "execution_count": 6,
   "metadata": {},
   "outputs": [
    {
     "data": {
      "text/plain": [
       "SVC(C=1.0, cache_size=200, class_weight=None, coef0=0.0,\n",
       "  decision_function_shape='ovr', degree=3, gamma='auto', kernel='rbf',\n",
       "  max_iter=-1, probability=False, random_state=None, shrinking=True,\n",
       "  tol=0.001, verbose=False)"
      ]
     },
     "execution_count": 6,
     "metadata": {},
     "output_type": "execute_result"
    }
   ],
   "source": [
    "cl.fit(X_train, Ytrn)"
   ]
  },
  {
   "cell_type": "code",
   "execution_count": 7,
   "metadata": {
    "scrolled": true
   },
   "outputs": [],
   "source": [
    "component1 = X_train[:,0]\n",
    "component2 = X_train[:,1]\n",
    "sigma1 = np.std(component1)\n",
    "sigma2 = np.std(component2)"
   ]
  },
  {
   "cell_type": "code",
   "execution_count": 8,
   "metadata": {},
   "outputs": [
    {
     "data": {
      "image/png": "[encoded data removed]",
      "text/plain": [
       "<Figure size 432x288 with 2 Axes>"
      ]
     },
     "metadata": {
      "needs_background": "light"
     },
     "output_type": "display_data"
    }
   ],
   "source": [
    "X1, X2 = np.meshgrid(np.arange(start = (-5 * sigma1), stop = (5 * sigma2), step = 0.01),\n",
    "                     np.arange(start = (-5 * sigma1), stop = (5 * sigma2), step = 0.01))\n",
    "plt.contourf(X1, X2, cl.predict(np.array([X1.ravel(), X2.ravel()]).T).reshape(X1.shape), cmap = \"coolwarm\")\n",
    "plt.xlim((-5 * sigma1), (5 * sigma2))\n",
    "plt.ylim((-5 * sigma1), (5 * sigma2))\n",
    "plt.colorbar(ticks = [0,1,2,3,4,5,6,7,8,9], label = \"Class\")\n",
    "plt.title(\"SVM Decision Regions spanned by 2D PCA Plane (Training)\")\n",
    "plt.xlabel(\"(-5 * std(PC1)) -> (5 * std(PC2))\")\n",
    "plt.ylabel(\"(-5 * std(PC1)) -> (5 * std(PC2))\")\n",
    "plt.savefig(\"2_4.png\")\n",
    "plt.show()"
   ]
  },
  {
   "cell_type": "code",
   "execution_count": null,
   "metadata": {},
   "outputs": [],
   "source": []
  },
  {
   "cell_type": "code",
   "execution_count": null,
   "metadata": {},
   "outputs": [],
   "source": []
  },
  {
   "cell_type": "code",
   "execution_count": null,
   "metadata": {},
   "outputs": [],
   "source": []
  }
 ],
 "metadata": {
  "kernelspec": {
   "display_name": "Python 3",
   "language": "python",
   "name": "python3"
  },
  "language_info": {
   "codemirror_mode": {
    "name": "ipython",
    "version": 3
   },
   "file_extension": ".py",
   "mimetype": "text/x-python",
   "name": "python",
   "nbconvert_exporter": "python",
   "pygments_lexer": "ipython3",
   "version": "3.7.9"
  }
 },
 "nbformat": 4,
 "nbformat_minor": 4
}
