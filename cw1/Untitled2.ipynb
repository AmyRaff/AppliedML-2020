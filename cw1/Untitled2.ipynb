{
 "cells": [
  {
   "cell_type": "code",
   "execution_count": 3,
   "metadata": {},
   "outputs": [],
   "source": [
    "import os\n",
    "import numpy as np \n",
    "import pandas as pd\n",
    "import matplotlib.pyplot as plt\n",
    "import seaborn as sns\n",
    "import graphviz\n",
    "from sklearn.model_selection import train_test_split\n",
    "from sklearn.linear_model import LinearRegression\n",
    "from sklearn.tree import DecisionTreeClassifier, export_graphviz\n",
    "from sklearn.ensemble import RandomForestClassifier\n",
    "from sklearn.metrics import accuracy_score, confusion_matrix, r2_score, mean_squared_error\n",
    "%matplotlib inline"
   ]
  },
  {
   "cell_type": "raw",
   "metadata": {},
   "source": []
  },
  {
   "cell_type": "code",
   "execution_count": 9,
   "metadata": {},
   "outputs": [],
   "source": [
    "test_path = os.path.join(os.getcwd(), 'data', 'faces_test_data.csv')\n",
    "test = pd.read_csv(test_path, delimiter = ',')\n",
    "train_path = os.path.join(os.getcwd(), 'data', 'faces_train_data.csv')\n",
    "train = pd.read_csv(train_path, delimiter = ',')"
   ]
  },
  {
   "cell_type": "code",
   "execution_count": 29,
   "metadata": {},
   "outputs": [],
   "source": [
    "smiling = train[train['smiling'] == 1].drop(['smiling'], axis=1)\n",
    "sad = train[train['smiling'] != 1].drop(['smiling'], axis=1)\n",
    "avg_smiling = smiling.mean(axis=0)\n",
    "avg_sad = sad.mean(axis=0)"
   ]
  },
  {
   "cell_type": "code",
   "execution_count": 66,
   "metadata": {},
   "outputs": [
    {
     "data": {
      "text/plain": [
       "<matplotlib.legend.Legend at 0x2c397946d48>"
      ]
     },
     "execution_count": 66,
     "metadata": {},
     "output_type": "execute_result"
    },
    {
     "data": {
      "image/png": "[encoded data removed]",
      "text/plain": [
       "<Figure size 432x288 with 1 Axes>"
      ]
     },
     "metadata": {
      "needs_background": "light"
     },
     "output_type": "display_data"
    }
   ],
   "source": [
    "smiling_xs = []\n",
    "smiling_ys = []\n",
    "for even in range(0,68,2):\n",
    "    smiling_xs.append(avg_smiling[even])\n",
    "for odd in range(1,69,2):\n",
    "    smiling_ys.append(avg_smiling[odd])\n",
    "sad_xs = []\n",
    "sad_ys = []\n",
    "for even in range(0,68,2):\n",
    "    sad_xs.append(avg_sad[even])\n",
    "for odd in range(1,69,2):\n",
    "    sad_ys.append(avg_sad[odd])\n",
    "fig, ax = plt.subplots()\n",
    "ax.scatter(smiling_xs, smiling_ys, label=\"Smiling\", color=\"green\")\n",
    "ax.scatter(sad_xs, sad_ys, label=\"Not Smiling\", color=\"red\")\n",
    "ax.set_xlabel(\"x coordinates\")\n",
    "ax.set_ylabel(\"y coordinates\")\n",
    "ax.set_title(\"Average coordinates for Smiling and Not Smiling faces\")\n",
    "plt.legend(loc=4)"
   ]
  },
  {
   "cell_type": "code",
   "execution_count": 72,
   "metadata": {},
   "outputs": [],
   "source": [
    "test_X = test.drop(['smiling'], axis=1)\n",
    "train_X = train.drop(['smiling'], axis=1)\n",
    "test_y = test['smiling']\n",
    "train_y = train['smiling']"
   ]
  },
  {
   "cell_type": "code",
   "execution_count": 94,
   "metadata": {},
   "outputs": [
    {
     "data": {
      "text/plain": [
       "0.7947916666666667"
      ]
     },
     "execution_count": 94,
     "metadata": {},
     "output_type": "execute_result"
    }
   ],
   "source": [
    "dc1 = DecisionTreeClassifier(random_state=2001, max_depth=2)\n",
    "dc1.fit(train_X, train_y)\n",
    "train_pred_1 = dc1.predict(train_X)\n",
    "train_acc_1 = accuracy_score(train_y, train_pred_1)\n",
    "train_acc_1"
   ]
  },
  {
   "cell_type": "code",
   "execution_count": 101,
   "metadata": {},
   "outputs": [
    {
     "name": "stdout",
     "output_type": "stream",
     "text": [
      "0.7641666666666667\n"
     ]
    }
   ],
   "source": [
    "ddc1 = DecisionTreeClassifier(random_state=2001, max_depth=2)\n",
    "ddc1.fit(test_X, test_y)\n",
    "test_pred_1 = ddc1.predict(test_X)\n",
    "test_acc_1 = accuracy_score(test_y, test_pred_1)\n",
    "print(test_acc_1)"
   ]
  },
  {
   "cell_type": "code",
   "execution_count": 97,
   "metadata": {},
   "outputs": [
    {
     "data": {
      "text/plain": [
       "0.9335416666666667"
      ]
     },
     "execution_count": 97,
     "metadata": {},
     "output_type": "execute_result"
    }
   ],
   "source": [
    "dc2 = DecisionTreeClassifier(random_state=2001, max_depth=8)\n",
    "dc2.fit(train_X, train_y)\n",
    "train_pred_2 = dc2.predict(train_X)\n",
    "train_acc_2 = accuracy_score(train_y, train_pred_2)\n",
    "train_acc_2"
   ]
  },
  {
   "cell_type": "code",
   "execution_count": 98,
   "metadata": {},
   "outputs": [
    {
     "name": "stdout",
     "output_type": "stream",
     "text": [
      "0.9816666666666667\n"
     ]
    }
   ],
   "source": [
    "dc2.fit(test_X, test_y)\n",
    "test_pred_2 = dc2.predict(test_X)\n",
    "test_acc_2 = accuracy_score(test_y, test_pred_2)\n",
    "print(test_acc_2)"
   ]
  },
  {
   "cell_type": "code",
   "execution_count": 99,
   "metadata": {},
   "outputs": [
    {
     "data": {
      "text/plain": [
       "1.0"
      ]
     },
     "execution_count": 99,
     "metadata": {},
     "output_type": "execute_result"
    }
   ],
   "source": [
    "dc3 = DecisionTreeClassifier(random_state=2001, max_depth=20)\n",
    "dc3.fit(train_X, train_y)\n",
    "train_pred_3 = dc3.predict(train_X)\n",
    "train_acc_3 = accuracy_score(train_y, train_pred_3)\n",
    "train_acc_3"
   ]
  },
  {
   "cell_type": "code",
   "execution_count": 100,
   "metadata": {},
   "outputs": [
    {
     "name": "stdout",
     "output_type": "stream",
     "text": [
      "1.0\n"
     ]
    }
   ],
   "source": [
    "dc3.fit(test_X, test_y)\n",
    "test_pred_3 = dc3.predict(test_X)\n",
    "test_acc_3 = accuracy_score(test_y, test_pred_3)\n",
    "print(test_acc_3)"
   ]
  },
  {
   "cell_type": "code",
   "execution_count": null,
   "metadata": {},
   "outputs": [],
   "source": [
    "alls = dc1.feature_importances_\n",
    "imps = np.where(alls > 0) # 67 = 0.63972219,100 = 0.36027781"
   ]
  },
  {
   "cell_type": "code",
   "execution_count": 154,
   "metadata": {},
   "outputs": [
    {
     "name": "stdout",
     "output_type": "stream",
     "text": [
      "(array([67], dtype=int64),) (array([100], dtype=int64),) (array([97], dtype=int64),)\n"
     ]
    }
   ],
   "source": [
    "alls2 = dc2.feature_importances_\n",
    "imps2 = np.where(alls2 == np.max(alls2))\n",
    "imps2 # attr 67 = y33\n",
    "sorteds = np.flip(np.sort(alls2))\n",
    "top3 = [sorteds[0], sorteds[1], sorteds[2]]\n",
    "things0 = np.where(alls2 == top3[0])\n",
    "things1 = np.where(alls2 == top3[1])\n",
    "things2 = np.where(alls2 == top3[2])"
   ]
  },
  {
   "cell_type": "code",
   "execution_count": 176,
   "metadata": {},
   "outputs": [
    {
     "data": {
      "text/plain": [
       "<matplotlib.collections.PathCollection at 0x2c397c0fbc8>"
      ]
     },
     "execution_count": 176,
     "metadata": {},
     "output_type": "execute_result"
    },
    {
     "data": {
      "image/png": "[encoded data removed]",
      "text/plain": [
       "<Figure size 432x288 with 1 Axes>"
      ]
     },
     "metadata": {
      "needs_background": "light"
     },
     "output_type": "display_data"
    }
   ],
   "source": [
    "k = sum(dc2.feature_importances_)\n",
    "k\n",
    "checkx = [smiling_xs[33], sad_xs[33]]\n",
    "checky = [smiling_ys[33], sad_ys[33]]\n",
    "plt.scatter(checkx, checky)"
   ]
  },
  {
   "cell_type": "code",
   "execution_count": 160,
   "metadata": {},
   "outputs": [],
   "source": [
    "# 67, 100, 97 = y33, x50, y48 = 0.25095553789911235, 0.141332773451923, 0.09116940567866642"
   ]
  }
 ],
 "metadata": {
  "kernelspec": {
   "display_name": "Python 3",
   "language": "python",
   "name": "python3"
  },
  "language_info": {
   "codemirror_mode": {
    "name": "ipython",
    "version": 3
   },
   "file_extension": ".py",
   "mimetype": "text/x-python",
   "name": "python",
   "nbconvert_exporter": "python",
   "pygments_lexer": "ipython3",
   "version": "3.7.9"
  }
 },
 "nbformat": 4,
 "nbformat_minor": 4
}
